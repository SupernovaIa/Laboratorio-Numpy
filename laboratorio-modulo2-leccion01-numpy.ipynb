{
 "cells": [
  {
   "cell_type": "markdown",
   "id": "6db588db",
   "metadata": {},
   "source": [
    "<div style=\"text-align: center;\">\n",
    "  <img src=\"https://github.com/Hack-io-Data/Imagenes/blob/main/01-LogosHackio/logo_naranja@4x.png?raw=true\" alt=\"esquema\" />\n",
    "</div>"
   ]
  },
  {
   "cell_type": "markdown",
   "id": "11308d6c",
   "metadata": {},
   "source": [
    "\n",
    "# Laboratorio de NumPy"
   ]
  },
  {
   "cell_type": "code",
   "execution_count": 1,
   "id": "4e863550",
   "metadata": {},
   "outputs": [],
   "source": [
    "import numpy as np"
   ]
  },
  {
   "cell_type": "markdown",
   "id": "a19d4596",
   "metadata": {},
   "source": [
    "#### Ejercicio 1 - Crea un array de 1D con los números del 0 al 9."
   ]
  },
  {
   "cell_type": "code",
   "execution_count": 26,
   "id": "9d4e1d42",
   "metadata": {},
   "outputs": [
    {
     "name": "stdout",
     "output_type": "stream",
     "text": [
      "El array es: [0 1 2 3 4 5 6 7 8 9]\n"
     ]
    }
   ],
   "source": [
    "array1 = np.arange(10)\n",
    "print(f\"El array es: {array1}\")"
   ]
  },
  {
   "cell_type": "markdown",
   "id": "f4a41f16",
   "metadata": {},
   "source": [
    "#### Ejercicio 2 - Convierte un array 1D en un array 2D con 2 filas y 5 columnas."
   ]
  },
  {
   "cell_type": "code",
   "execution_count": 24,
   "id": "3d7cef3c",
   "metadata": {},
   "outputs": [
    {
     "name": "stdout",
     "output_type": "stream",
     "text": [
      "El array es: \n",
      "[[0 1 2 3 4]\n",
      " [5 6 7 8 9]] \n",
      "con dimensiones: \n",
      "(2, 5)\n"
     ]
    }
   ],
   "source": [
    "array2 = np.reshape(array1, (2, 5))\n",
    "print(f\"El array es: \\n{array2} \\ncon dimensiones: \\n{array2.shape}\")"
   ]
  },
  {
   "cell_type": "markdown",
   "id": "86bb8999",
   "metadata": {},
   "source": [
    "#### Ejercicio 3 - Encuentra los índices de los elementos con valor distinto de 0 en el siguiente array: [0, 2, 0, 3, 0, 4, 0]."
   ]
  },
  {
   "cell_type": "code",
   "execution_count": 32,
   "id": "d1fcfca4",
   "metadata": {},
   "outputs": [
    {
     "name": "stdout",
     "output_type": "stream",
     "text": [
      " Los elementos son [2 3 4], con índices [1 3 5]\n"
     ]
    }
   ],
   "source": [
    "array3 = np.array([0, 2, 0, 3, 0, 4, 0])\n",
    "\n",
    "print(f\" Los elementos son {array3[array3 != 0]}, con índices {np.where(array3 > 0)[0]}\")"
   ]
  },
  {
   "cell_type": "markdown",
   "id": "1c548419",
   "metadata": {},
   "source": [
    "#### Ejercicio 4 - Crea un array 3x3 con valores aleatorios entre 0 y 1."
   ]
  },
  {
   "cell_type": "code",
   "execution_count": 38,
   "id": "e1d4f19f",
   "metadata": {},
   "outputs": [
    {
     "name": "stdout",
     "output_type": "stream",
     "text": [
      "El array es: \n",
      "[[0.24288524 0.19180557 0.88581255]\n",
      " [0.40300994 0.08988497 0.79962586]\n",
      " [0.00699524 0.76052388 0.33963664]]\n"
     ]
    }
   ],
   "source": [
    "array4 = np.random.rand(3, 3)\n",
    "print(F\"El array es: \\n{array4}\")"
   ]
  },
  {
   "cell_type": "markdown",
   "id": "aee82811",
   "metadata": {},
   "source": [
    "#### Ejercicio 5 - Crea un array de 10 números aleatorios y encuentra el valor máximo y mínimo."
   ]
  },
  {
   "cell_type": "code",
   "execution_count": 44,
   "id": "81fea76e",
   "metadata": {},
   "outputs": [
    {
     "name": "stdout",
     "output_type": "stream",
     "text": [
      "El array es: \n",
      "[0.77711739 0.01724741 0.07716797 0.89524055 0.05393919 0.3945182\n",
      " 0.82993756 0.01958319 0.91054968 0.65669012] \n",
      "cuyo valor máximo es 0.9105 y valor mínimo 0.0172\n"
     ]
    }
   ],
   "source": [
    "array5 = np.random.rand(10)\n",
    "\n",
    "print(f\"El array es: \\n{array5} \\ncuyo valor máximo es {round(array5.max(), 4)} y valor mínimo {round(array5.min(), 4)}\")"
   ]
  },
  {
   "cell_type": "markdown",
   "id": "6559375b",
   "metadata": {},
   "source": [
    "#### Ejercicio 6 - Crea un array de una dimensión e inviértelo. "
   ]
  },
  {
   "cell_type": "code",
   "execution_count": 46,
   "id": "31385db0",
   "metadata": {},
   "outputs": [
    {
     "name": "stdout",
     "output_type": "stream",
     "text": [
      "El array es \n",
      "[0.88096989 0.84526255 0.12174435 0.2156439  0.22766084 0.64386015\n",
      " 0.51421335 0.408387   0.90424344 0.37726767] \n",
      "mientras que el array invertido es: \n",
      "[0.37726767 0.90424344 0.408387   0.51421335 0.64386015 0.22766084\n",
      " 0.2156439  0.12174435 0.84526255 0.88096989]\n"
     ]
    }
   ],
   "source": [
    "array6 = np.random.rand(10)\n",
    "\n",
    "print(f\"El array es \\n{array6} \\nmientras que el array invertido es: \\n{array6[::-1]}\")"
   ]
  },
  {
   "cell_type": "markdown",
   "id": "4457f046",
   "metadata": {},
   "source": [
    "\n",
    "#### Ejercicio 7 - Genera un array tridimensional de dimensiones (2, 3, 4) con valores enteros del 1 al 24.\n",
    "\n",
    "- Selecciona el primer `15` del array.\n",
    "\n",
    "- Selecciona todos los elementos del primer array. \n",
    "\n",
    "- Selecciona la última fila del último array\n"
   ]
  },
  {
   "cell_type": "code",
   "execution_count": 77,
   "id": "3cab04c9",
   "metadata": {},
   "outputs": [
    {
     "name": "stdout",
     "output_type": "stream",
     "text": [
      "El array es: \n",
      "[[[23 19 16 22]\n",
      "  [16 20 20 15]\n",
      "  [23 17 20 19]]\n",
      "\n",
      " [[18 17 18 23]\n",
      "  [16 19 16 18]\n",
      "  [21 18 16 17]]]\n",
      "La primera ocurrencia de 15 está en: (0, 1, 3)\n",
      "\n",
      "Los elementos del primer array son: \n",
      "[[23 19 16 22]\n",
      " [16 20 20 15]\n",
      " [23 17 20 19]]\n",
      "\n",
      "La última fila del último array es: \n",
      "[21 18 16 17]\n"
     ]
    }
   ],
   "source": [
    "array7 = np.random.randint(14, 24, (2, 3, 4))\n",
    "\n",
    "print(f\"El array es: \\n{array7}\")\n",
    "\n",
    "# Todas las posiciones donde vale 15\n",
    "posiciones = np.where(array7 == 15)\n",
    "\n",
    "# Si hay coincidencias, obtener la primera\n",
    "if posiciones[0].size > 0:\n",
    "    primera_posicion = tuple(pos[0] for pos in posiciones)\n",
    "    print(f\"La primera ocurrencia de 15 está en: {primera_posicion}\")\n",
    "else:\n",
    "    print(\"No se encontró ningún 15 en el array.\")\n",
    "\n",
    "# Elementos del primer array\n",
    "print(f\"\\nLos elementos del primer array son: \\n{array7[0]}\")\n",
    "\n",
    "# Última fila del último array\n",
    "print(f\"\\nLa última fila del último array es: \\n{array7[-1,-1,:]}\")\n"
   ]
  },
  {
   "cell_type": "markdown",
   "id": "681b7e4e",
   "metadata": {},
   "source": [
    "\n",
    "#### Ejercicio 8 - Genera un array tridimensional de dimensiones (3, 2, 5) con valores enteros del 1 al 30.\n",
    "\n",
    "- Selecciona el subarray que contiene los dos primeros elementos de cada fila del primer array.\n",
    "\n",
    "- Selecciona el subarray que contiene todas las filas de los dos últimos arrays.\n"
   ]
  },
  {
   "cell_type": "code",
   "execution_count": 85,
   "id": "b008a9aa",
   "metadata": {},
   "outputs": [
    {
     "name": "stdout",
     "output_type": "stream",
     "text": [
      "El array es: \n",
      "[[[14  7 23 15 16]\n",
      "  [19  9 10  1 20]]\n",
      "\n",
      " [[11 21 26 10 19]\n",
      "  [21 22 10  6  1]]\n",
      "\n",
      " [[25 30  3 28 15]\n",
      "  [14  7 12 23 11]]]\n",
      "\n",
      "Subarray con los dos primeros elementos de cada fila del primer array: \n",
      "[[14  7]\n",
      " [19  9]]\n",
      "\n",
      "Subarray que contiene todas las filas de los dos últimos arrays: \n",
      "[[[11 21 26 10 19]\n",
      "  [21 22 10  6  1]]\n",
      "\n",
      " [[25 30  3 28 15]\n",
      "  [14  7 12 23 11]]]\n"
     ]
    }
   ],
   "source": [
    "array8 = np.random.randint(1, 31, (3, 2, 5))\n",
    "\n",
    "print(f\"El array es: \\n{array8}\")\n",
    "print(f\"\\nSubarray con los dos primeros elementos de cada fila del primer array: \\n{array8[0,:,:2]}\")\n",
    "print(f\"\\nSubarray que contiene todas las filas de los dos últimos arrays: \\n{array8[-2:,:,:]}\")"
   ]
  },
  {
   "cell_type": "markdown",
   "id": "4fabd9d0",
   "metadata": {},
   "source": [
    "#### Ejercicio 9 - Genera un array tridimensional de dimensiones (4, 3, 2) con valores enteros del 1 al 24.\n",
    "\n",
    "- Cambia todos los elementos de la segunda fila del segundo array por `0`.\n",
    "\n",
    "- Cambia todos los valores del último array a `-1`.\n"
   ]
  },
  {
   "cell_type": "code",
   "execution_count": 88,
   "id": "0ef45b69",
   "metadata": {},
   "outputs": [
    {
     "name": "stdout",
     "output_type": "stream",
     "text": [
      "El array es: \n",
      "[[[20 12]\n",
      "  [ 3  1]\n",
      "  [ 3 12]]\n",
      "\n",
      " [[15  6]\n",
      "  [18 20]\n",
      "  [ 8 18]]\n",
      "\n",
      " [[ 5  7]\n",
      "  [ 3 13]\n",
      "  [11 16]]\n",
      "\n",
      " [[20  1]\n",
      "  [ 3  8]\n",
      "  [23 22]]]\n",
      "\n",
      "Cambiar todos los elementos de la segunda fila del segundo array por 0: \n",
      "[[[20 12]\n",
      "  [ 3  1]\n",
      "  [ 3 12]]\n",
      "\n",
      " [[15  6]\n",
      "  [ 0  0]\n",
      "  [ 8 18]]\n",
      "\n",
      " [[ 5  7]\n",
      "  [ 3 13]\n",
      "  [11 16]]\n",
      "\n",
      " [[20  1]\n",
      "  [ 3  8]\n",
      "  [23 22]]]\n",
      "\n",
      "Cambiar todos los valores del último array a -1: \n",
      "[[[20 12]\n",
      "  [ 3  1]\n",
      "  [ 3 12]]\n",
      "\n",
      " [[15  6]\n",
      "  [ 0  0]\n",
      "  [ 8 18]]\n",
      "\n",
      " [[ 5  7]\n",
      "  [ 3 13]\n",
      "  [11 16]]\n",
      "\n",
      " [[-1 -1]\n",
      "  [-1 -1]\n",
      "  [-1 -1]]]\n"
     ]
    }
   ],
   "source": [
    "array9 = np.random.randint(1, 24, (4, 3, 2))\n",
    "\n",
    "print(f\"El array es: \\n{array9}\")\n",
    "\n",
    "array9[1,1,:] = 0\n",
    "print(f\"\\nCambiar todos los elementos de la segunda fila del segundo array por 0: \\n{array9}\")\n",
    "array9[-1,:,:] = -1\n",
    "print(f\"\\nCambiar todos los valores del último array a -1: \\n{array9}\")"
   ]
  },
  {
   "cell_type": "markdown",
   "id": "c60bc3bb",
   "metadata": {},
   "source": [
    "\n",
    "#### Ejercicio 10 - Genera un array tridimensional de dimensiones (2, 4, 3) con valores enteros del -10 al 13.\n",
    "\n",
    "- Selecciona todos los elementos mayores a `5`.\n",
    "\n",
    "- Reemplaza todos los elementos negativos por `0`.\n"
   ]
  },
  {
   "cell_type": "code",
   "execution_count": 90,
   "id": "28bf9232",
   "metadata": {},
   "outputs": [
    {
     "name": "stdout",
     "output_type": "stream",
     "text": [
      "El array es: \n",
      "[[[  3  -9  -3]\n",
      "  [  1  -3  -9]\n",
      "  [  8  -7  -8]\n",
      "  [ -5  -8   8]]\n",
      "\n",
      " [[ 11 -10  -2]\n",
      "  [ 11   7  12]\n",
      "  [ -2   1   1]\n",
      "  [ -1  12  11]]]\n",
      "\n",
      "Seleccionar elementos mayores a 5: \n",
      "[ 8  8 11 11  7 12 12 11]\n",
      "\n",
      "Reemplazar los negativos por 0: \n",
      "[[[ 3  0  0]\n",
      "  [ 1  0  0]\n",
      "  [ 8  0  0]\n",
      "  [ 0  0  8]]\n",
      "\n",
      " [[11  0  0]\n",
      "  [11  7 12]\n",
      "  [ 0  1  1]\n",
      "  [ 0 12 11]]]\n"
     ]
    }
   ],
   "source": [
    "array10 = np.random.randint(-10, 13, (2, 4, 3))\n",
    "\n",
    "print(f\"El array es: \\n{array10}\")\n",
    "print(f\"\\nSeleccionar elementos mayores a 5: \\n{array10[array10 > 5]}\")\n",
    "array10[array10 < 0] = 0\n",
    "print(f\"\\nReemplazar los negativos por 0: \\n{array10}\")"
   ]
  },
  {
   "cell_type": "markdown",
   "id": "ab38a3be",
   "metadata": {},
   "source": [
    "#### Ejercicio 11 - Genera un array tridimensional de dimensiones (3, 3, 3) con valores enteros del 1 al 27.\n",
    "\n",
    "- Selecciona el subarray del segundo array que contenga solo las dos primeras columnas.\n",
    "\n",
    "- Selecciona todos los elementos del tercer array que sean mayores que `20`.\n"
   ]
  },
  {
   "cell_type": "code",
   "execution_count": 97,
   "id": "78c979cf",
   "metadata": {},
   "outputs": [
    {
     "name": "stdout",
     "output_type": "stream",
     "text": [
      "El array es: \n",
      "[[[23 16 13]\n",
      "  [ 5 18  5]\n",
      "  [ 2 24 20]]\n",
      "\n",
      " [[ 1  1 14]\n",
      "  [20 14  4]\n",
      "  [ 6  9  1]]\n",
      "\n",
      " [[ 4 22 14]\n",
      "  [20 23 12]\n",
      "  [ 1  9 14]]]\n",
      "\n",
      "Seleccionar subarray del segundo array con solo las 2 primeras columnas: \n",
      "[[ 1  1]\n",
      " [20 14]\n",
      " [ 6  9]]\n",
      "\n",
      "Seleccionar elementos del tercer array mayores a 20: \n",
      "[22 23]\n"
     ]
    }
   ],
   "source": [
    "array11 = np.random.randint(1, 28, (3, 3, 3))\n",
    "\n",
    "print(f\"El array es: \\n{array11}\")\n",
    "print(f\"\\nSeleccionar subarray del segundo array con solo las 2 primeras columnas: \\n{array11[1, :, :2]}\")\n",
    "print(f\"\\nSeleccionar elementos del tercer array mayores a 20: \\n{array11[2][array11[2] > 20]}\")"
   ]
  },
  {
   "cell_type": "markdown",
   "id": "f1a00156",
   "metadata": {},
   "source": [
    "#### Ejercicio 12 - Crea un array de 10 números aleatorios y reemplaza los valores máximos y mínimos por 0."
   ]
  },
  {
   "cell_type": "code",
   "execution_count": 113,
   "id": "990fa526",
   "metadata": {},
   "outputs": [
    {
     "name": "stdout",
     "output_type": "stream",
     "text": [
      "El array es: \n",
      "[  9 -37 -89 -48  16  30 -14  71  -5 -44]\n",
      "El máximo es 71\n",
      "El máximo es -89\n",
      "\n",
      "El array final es: \n",
      "[  9 -37   0 -48  16  30 -14   0  -5 -44]\n"
     ]
    }
   ],
   "source": [
    "array12 = np.random.randint(-100, 100, (10))\n",
    "\n",
    "print(f\"El array es: \\n{array12}\")\n",
    "\n",
    "print(f\"El máximo es {array12.max()}\")\n",
    "print(f\"El máximo es {array12.min()}\")\n",
    "\n",
    "array12[array12 == array12.max()] = 0\n",
    "array12[array12 == array12.min()] = 0\n",
    "\n",
    "print(f\"\\nEl array final es: \\n{array12}\")"
   ]
  },
  {
   "cell_type": "markdown",
   "id": "781fafd0",
   "metadata": {},
   "source": [
    "#### Ejercicio 13 - Genera un array de 15 números aleatorios enteros entre 1 y 100 y reordénalo en orden ascendente."
   ]
  },
  {
   "cell_type": "code",
   "execution_count": 115,
   "id": "caa4fd47",
   "metadata": {},
   "outputs": [
    {
     "name": "stdout",
     "output_type": "stream",
     "text": [
      "El array es: \n",
      "[36 68 52 94  6 20 28 55 21 53 27 22 77 96 34]\n",
      "El array ordenado es: \n",
      "[ 6 20 21 22 27 28 34 36 52 53 55 68 77 94 96]\n"
     ]
    }
   ],
   "source": [
    "array13 = np.random.randint(1, 100, (15))\n",
    "\n",
    "print(f\"El array es: \\n{array13}\")\n",
    "print(f\"El array ordenado es: \\n{np.sort(array13)}\")"
   ]
  },
  {
   "cell_type": "markdown",
   "id": "45f10c3e",
   "metadata": {},
   "source": [
    "#### Ejercicio 14 - Calcula la suma de los elementos a lo largo de las filas y columnas en una matriz 4x4."
   ]
  },
  {
   "cell_type": "code",
   "execution_count": 124,
   "id": "90220788",
   "metadata": {},
   "outputs": [
    {
     "name": "stdout",
     "output_type": "stream",
     "text": [
      "El array es: \n",
      "[[1 2 3 1]\n",
      " [2 2 4 2]\n",
      " [1 2 4 4]\n",
      " [4 3 4 4]]\n",
      "La suma a lo largo de las filas es: \n",
      "[ 7 10 11 15]\n",
      "La suma a lo largo de las columnas es: \n",
      "[ 8  9 15 11]\n"
     ]
    }
   ],
   "source": [
    "array14 = np.random.randint(1, 5, (4, 4))\n",
    "\n",
    "print(f\"El array es: \\n{array14}\")\n",
    "print(f\"La suma a lo largo de las filas es: \\n{array14.sum(axis = 1)}\")\n",
    "print(f\"La suma a lo largo de las columnas es: \\n{array14.sum(axis = 0)}\")"
   ]
  },
  {
   "cell_type": "markdown",
   "id": "69b9751a",
   "metadata": {},
   "source": [
    "#### Ejercicio 15 - Crea una matriz de 5x5 con valores en el borde igual a 1 y en el interior igual a 0."
   ]
  },
  {
   "cell_type": "code",
   "execution_count": 135,
   "id": "eca81323",
   "metadata": {},
   "outputs": [
    {
     "name": "stdout",
     "output_type": "stream",
     "text": [
      "El array es: \n",
      "[[1. 1. 1. 1. 1.]\n",
      " [1. 0. 0. 0. 1.]\n",
      " [1. 0. 0. 0. 1.]\n",
      " [1. 0. 0. 0. 1.]\n",
      " [1. 1. 1. 1. 1.]]\n"
     ]
    }
   ],
   "source": [
    "# Creamos una de 1\n",
    "array15 = np.ones((5, 5))\n",
    "# Rellenamos el interior con 0\n",
    "array15[1:4, 1:4] = 0\n",
    "\n",
    "print(f\"El array es: \\n{array15}\")"
   ]
  },
  {
   "cell_type": "markdown",
   "id": "1ea8068d",
   "metadata": {},
   "source": [
    "#### Ejercicio 16 - Calcula la media y la desviación estándar de un array de 10 números aleatorios."
   ]
  },
  {
   "cell_type": "code",
   "execution_count": 146,
   "id": "05dd579d",
   "metadata": {},
   "outputs": [
    {
     "name": "stdout",
     "output_type": "stream",
     "text": [
      "El array es: \n",
      "[ 5 10  1  4  8 11 17 14  2  9]\n",
      "La media es: \n",
      "8.1\n",
      "La desviación típica es: \n",
      "4.91\n"
     ]
    }
   ],
   "source": [
    "array16 = np.random.randint(1, 20, (10))\n",
    "\n",
    "print(f\"El array es: \\n{array16}\")\n",
    "print(f\"La media es: \\n{array16.mean()}\")\n",
    "print(f\"La desviación típica es: \\n{round(array16.std(), 2)}\")"
   ]
  },
  {
   "cell_type": "markdown",
   "id": "6add6669",
   "metadata": {},
   "source": [
    "#### Ejercicio 17 - Genera un array tridimensional de dimensiones (2, 3, 4) con valores enteros del 1 al 24.\n",
    "\n",
    "- Transpón el array para intercambiar los ejes de la forma (2, 3, 4) a (4, 3, 2).\n",
    "\n",
    "- Observa cómo cambian las posiciones de los elementos y sus índices después de la transposición. Explica en una celda de markdown que es lo que ha pasado. \n"
   ]
  },
  {
   "cell_type": "code",
   "execution_count": 147,
   "id": "ae98aca5",
   "metadata": {},
   "outputs": [
    {
     "name": "stdout",
     "output_type": "stream",
     "text": [
      "El array es: \n",
      "[[[17 10  6 14]\n",
      "  [16 20  7 11]\n",
      "  [10 14 19 18]]\n",
      "\n",
      " [[ 7 21 19 16]\n",
      "  [ 3 22  9 14]\n",
      "  [17  3  8 21]]]\n",
      "El array traspuesto es: \n",
      "[[[17  7]\n",
      "  [16  3]\n",
      "  [10 17]]\n",
      "\n",
      " [[10 21]\n",
      "  [20 22]\n",
      "  [14  3]]\n",
      "\n",
      " [[ 6 19]\n",
      "  [ 7  9]\n",
      "  [19  8]]\n",
      "\n",
      " [[14 16]\n",
      "  [11 14]\n",
      "  [18 21]]]\n"
     ]
    }
   ],
   "source": [
    "array17 = np.random.randint(1, 24, (2, 3, 4))\n",
    "\n",
    "print(f\"El array es: \\n{array17}\")\n",
    "print(f\"El array traspuesto es: \\n{array17.transpose(2,1,0)}\")"
   ]
  },
  {
   "cell_type": "markdown",
   "id": "9cc788cf",
   "metadata": {},
   "source": [
    "Inicialmente tenemos 2 matrices de 3 filas y 4 columnas (2,3,4)\n",
    "Tras la transposición tenemos 4 matrices de 3 filas y 2 columnas (4,3,2)"
   ]
  },
  {
   "cell_type": "markdown",
   "id": "1e32b5e6",
   "metadata": {},
   "source": [
    "#### Ejercicio 18 - Genera un array tridimensional de dimensiones (3, 4, 2) con valores enteros del 1 al 24.\n",
    "\n",
    "- Transpón el array para intercambiar el primer y segundo eje, de manera que la nueva forma del array sea (4, 3, 2).\n"
   ]
  },
  {
   "cell_type": "code",
   "execution_count": 152,
   "id": "0146fdd6",
   "metadata": {},
   "outputs": [
    {
     "name": "stdout",
     "output_type": "stream",
     "text": [
      "El array es: \n",
      "[[[10 18]\n",
      "  [23 22]\n",
      "  [ 3 18]\n",
      "  [18 18]]\n",
      "\n",
      " [[ 6 11]\n",
      "  [ 3 14]\n",
      "  [15 13]\n",
      "  [ 5 15]]\n",
      "\n",
      " [[11 11]\n",
      "  [16 14]\n",
      "  [13  3]\n",
      "  [22 13]]]\n",
      "El array traspuesto es: \n",
      "[[[10 18]\n",
      "  [ 6 11]\n",
      "  [11 11]]\n",
      "\n",
      " [[23 22]\n",
      "  [ 3 14]\n",
      "  [16 14]]\n",
      "\n",
      " [[ 3 18]\n",
      "  [15 13]\n",
      "  [13  3]]\n",
      "\n",
      " [[18 18]\n",
      "  [ 5 15]\n",
      "  [22 13]]]\n",
      "Lo podemos comprobar usando shape: (4, 3, 2)\n"
     ]
    }
   ],
   "source": [
    "array18 = np.random.randint(1, 24, (3, 4, 2))\n",
    "\n",
    "print(f\"El array es: \\n{array18}\")\n",
    "print(f\"El array traspuesto es: \\n{array18.transpose(1,0,2)}\")\n",
    "print(f\"Lo podemos comprobar usando shape: {array18.transpose(1,0,2).shape}\")"
   ]
  },
  {
   "cell_type": "markdown",
   "id": "fcf92586",
   "metadata": {},
   "source": [
    "#### Ejercicio 19 - Genera un array tridimensional de dimensiones (3, 2, 4) con valores enteros del 1 al 24.\n",
    "\n",
    "- Realiza una rotación completa de los ejes para convertir la forma original (3, 2, 4) en (4, 3, 2).\n"
   ]
  },
  {
   "cell_type": "code",
   "execution_count": 157,
   "id": "dd2c7f27",
   "metadata": {},
   "outputs": [
    {
     "name": "stdout",
     "output_type": "stream",
     "text": [
      "El array es: \n",
      "[[[ 5 21  9  9]\n",
      "  [ 1  5  7  4]]\n",
      "\n",
      " [[23 10 10 23]\n",
      "  [19 19  6  2]]\n",
      "\n",
      " [[13 11 19  8]\n",
      "  [ 1  7 14 19]]]\n",
      "El resultado es: [[[ 5  1]\n",
      "  [23 19]\n",
      "  [13  1]]\n",
      "\n",
      " [[21  5]\n",
      "  [10 19]\n",
      "  [11  7]]\n",
      "\n",
      " [[ 9  7]\n",
      "  [10  6]\n",
      "  [19 14]]\n",
      "\n",
      " [[ 9  4]\n",
      "  [23  2]\n",
      "  [ 8 19]]]\n",
      "Lo podemos comprobar usando shape: (4, 3, 2)\n"
     ]
    }
   ],
   "source": [
    "array19 = np.random.randint(1, 24, (3, 2, 4))\n",
    "print(f\"El array es: \\n{array19}\")\n",
    "\n",
    "# Rotamos el 0 con el 1 (3 con 2) -> (2, 3, 4)\n",
    "first_rotation = array19.swapaxes(0, 1)\n",
    "# Rotamos el 0 con el 2 (2 con 4) -> (4, 3, 2)\n",
    "print(f\"El resultado es: {first_rotation.swapaxes(0, 2)}\")\n",
    "print(f\"Lo podemos comprobar usando shape: {first_rotation.swapaxes(0, 2).shape}\")"
   ]
  },
  {
   "cell_type": "markdown",
   "id": "1795e11f",
   "metadata": {},
   "source": [
    "#### Ejercicio 20 - Manipulación de Arrays en 3D\n",
    "\n",
    "- Crea un array tridimensional con dimensiones (3, 4, 5) cuyos elementos sean números enteros aleatorios entre -10 y 10.\n",
    "\n",
    "- Crea un array vacío con la misma forma y dimensiones que el array creado anteriormente. Luego, reemplaza los valores de la matriz vacía basada en los valores del primer array bajo las siguientes condiciones:\n",
    "\n",
    "   - Si el valor es igual a la mediana, se reemplaza por `\"M\"`.\n",
    "\n",
    "   - Si el valor es mayor que la mediana, se reemplaza por `\"X\"`.\n",
    "\n",
    "   - Si el valor es menor que la mediana, se reemplaza por `\"Y\"`.\n",
    "\n",
    "   - Si el valor es igual al máximo, se reemplaza por `\"MAX\"`.\n",
    "\n",
    "   - Si el valor es igual al mínimo, se reemplaza por `\"MIN\"`.\n"
   ]
  },
  {
   "cell_type": "code",
   "execution_count": 162,
   "id": "d309b397",
   "metadata": {},
   "outputs": [
    {
     "name": "stdout",
     "output_type": "stream",
     "text": [
      "El array inicial es: \n",
      "[[[  0   4  -7  -2   4]\n",
      "  [  7   0  -8  -3   6]\n",
      "  [-10  -3  -2   7  -8]\n",
      "  [ -4   9  -5 -10  -6]]\n",
      "\n",
      " [[ -6  -7   5   7  -6]\n",
      "  [  3  -6  -9   6   0]\n",
      "  [ -4  -6  -9  -9  -3]\n",
      "  [  0   1   5   2  -3]]\n",
      "\n",
      " [[ -5  -9  -4   3   1]\n",
      "  [ -7  -4   6   6   3]\n",
      "  [  3  -5  -4   8   4]\n",
      "  [  8  -5 -10   7  -8]]]\n",
      "El array vacío (ceros) es: \n",
      "[[[0 0 0 0 0]\n",
      "  [0 0 0 0 0]\n",
      "  [0 0 0 0 0]\n",
      "  [0 0 0 0 0]]\n",
      "\n",
      " [[0 0 0 0 0]\n",
      "  [0 0 0 0 0]\n",
      "  [0 0 0 0 0]\n",
      "  [0 0 0 0 0]]\n",
      "\n",
      " [[0 0 0 0 0]\n",
      "  [0 0 0 0 0]\n",
      "  [0 0 0 0 0]\n",
      "  [0 0 0 0 0]]]\n"
     ]
    }
   ],
   "source": [
    "array20 = np.random.randint(-10, 10, (3, 4, 5))\n",
    "print(f\"El array inicial es: \\n{array20}\")\n",
    "\n",
    "empty_array = np.zeros_like(array20)\n",
    "print(f\"El array vacío (ceros) es: \\n{empty_array}\")"
   ]
  },
  {
   "cell_type": "code",
   "execution_count": 171,
   "id": "1b1e9049",
   "metadata": {},
   "outputs": [
    {
     "name": "stdout",
     "output_type": "stream",
     "text": [
      "La mediana es: -3.0\n",
      "\n",
      "El array con la mediana sustituida es: \n",
      "[[['0' '4' '-7' '-2' '4']\n",
      "  ['7' '0' '-8' 'M' '6']\n",
      "  ['-10' 'M' '-2' '7' '-8']\n",
      "  ['-4' '9' '-5' '-10' '-6']]\n",
      "\n",
      " [['-6' '-7' '5' '7' '-6']\n",
      "  ['3' '-6' '-9' '6' '0']\n",
      "  ['-4' '-6' '-9' '-9' 'M']\n",
      "  ['0' '1' '5' '2' 'M']]\n",
      "\n",
      " [['-5' '-9' '-4' '3' '1']\n",
      "  ['-7' '-4' '6' '6' '3']\n",
      "  ['3' '-5' '-4' '8' '4']\n",
      "  ['8' '-5' '-10' '7' '-8']]]\n"
     ]
    }
   ],
   "source": [
    "median = np.median(array20)\n",
    "print(f\"La mediana es: {median}\")\n",
    "\n",
    "print(f\"\\nEl array con la mediana sustituida es: \\n{np.where(array20 == median, \"M\", array20)}\")"
   ]
  },
  {
   "cell_type": "code",
   "execution_count": 172,
   "id": "d5fd7f4f",
   "metadata": {},
   "outputs": [
    {
     "name": "stdout",
     "output_type": "stream",
     "text": [
      "\n",
      "El array con los valores mayores a la mediana sustituidos: \n",
      "[[['X' 'X' '-7' 'X' 'X']\n",
      "  ['X' 'X' '-8' '-3' 'X']\n",
      "  ['-10' '-3' 'X' 'X' '-8']\n",
      "  ['-4' 'X' '-5' '-10' '-6']]\n",
      "\n",
      " [['-6' '-7' 'X' 'X' '-6']\n",
      "  ['X' '-6' '-9' 'X' 'X']\n",
      "  ['-4' '-6' '-9' '-9' '-3']\n",
      "  ['X' 'X' 'X' 'X' '-3']]\n",
      "\n",
      " [['-5' '-9' '-4' 'X' 'X']\n",
      "  ['-7' '-4' 'X' 'X' 'X']\n",
      "  ['X' '-5' '-4' 'X' 'X']\n",
      "  ['X' '-5' '-10' 'X' '-8']]]\n"
     ]
    }
   ],
   "source": [
    "print(f\"\\nEl array con los valores mayores a la mediana sustituidos: \\n{np.where(array20 > median, \"X\", array20)}\")"
   ]
  },
  {
   "cell_type": "code",
   "execution_count": 174,
   "id": "aa18933f",
   "metadata": {},
   "outputs": [
    {
     "name": "stdout",
     "output_type": "stream",
     "text": [
      "\n",
      "El array con los valores menores a la mediana sustituidos: \n",
      "[[['0' '4' 'Y' '-2' '4']\n",
      "  ['7' '0' 'Y' '-3' '6']\n",
      "  ['Y' '-3' '-2' '7' 'Y']\n",
      "  ['Y' '9' 'Y' 'Y' 'Y']]\n",
      "\n",
      " [['Y' 'Y' '5' '7' 'Y']\n",
      "  ['3' 'Y' 'Y' '6' '0']\n",
      "  ['Y' 'Y' 'Y' 'Y' '-3']\n",
      "  ['0' '1' '5' '2' '-3']]\n",
      "\n",
      " [['Y' 'Y' 'Y' '3' '1']\n",
      "  ['Y' 'Y' '6' '6' '3']\n",
      "  ['3' 'Y' 'Y' '8' '4']\n",
      "  ['8' 'Y' 'Y' '7' 'Y']]]\n"
     ]
    }
   ],
   "source": [
    "print(f\"\\nEl array con los valores menores a la mediana sustituidos: \\n{np.where(array20 < median, \"Y\", array20)}\")"
   ]
  },
  {
   "cell_type": "code",
   "execution_count": 175,
   "id": "64f3682a",
   "metadata": {},
   "outputs": [
    {
     "name": "stdout",
     "output_type": "stream",
     "text": [
      "El máximo es: 9\n",
      "\n",
      "El array el máximo sustituido es: \n",
      "[[['0' '4' '-7' '-2' '4']\n",
      "  ['7' '0' '-8' '-3' '6']\n",
      "  ['-10' '-3' '-2' '7' '-8']\n",
      "  ['-4' 'MAX' '-5' '-10' '-6']]\n",
      "\n",
      " [['-6' '-7' '5' '7' '-6']\n",
      "  ['3' '-6' '-9' '6' '0']\n",
      "  ['-4' '-6' '-9' '-9' '-3']\n",
      "  ['0' '1' '5' '2' '-3']]\n",
      "\n",
      " [['-5' '-9' '-4' '3' '1']\n",
      "  ['-7' '-4' '6' '6' '3']\n",
      "  ['3' '-5' '-4' '8' '4']\n",
      "  ['8' '-5' '-10' '7' '-8']]]\n"
     ]
    }
   ],
   "source": [
    "maximo = np.max(array20)\n",
    "print(f\"El máximo es: {maximo}\")\n",
    "\n",
    "print(f\"\\nEl array el máximo sustituido es: \\n{np.where(array20 == maximo, \"MAX\", array20)}\")"
   ]
  },
  {
   "cell_type": "code",
   "execution_count": 177,
   "id": "724c264b",
   "metadata": {},
   "outputs": [
    {
     "name": "stdout",
     "output_type": "stream",
     "text": [
      "El máximo es: -10\n",
      "\n",
      "El array el máximo sustituido es: \n",
      "[[['0' '4' '-7' '-2' '4']\n",
      "  ['7' '0' '-8' '-3' '6']\n",
      "  ['MIN' '-3' '-2' '7' '-8']\n",
      "  ['-4' '9' '-5' 'MIN' '-6']]\n",
      "\n",
      " [['-6' '-7' '5' '7' '-6']\n",
      "  ['3' '-6' '-9' '6' '0']\n",
      "  ['-4' '-6' '-9' '-9' '-3']\n",
      "  ['0' '1' '5' '2' '-3']]\n",
      "\n",
      " [['-5' '-9' '-4' '3' '1']\n",
      "  ['-7' '-4' '6' '6' '3']\n",
      "  ['3' '-5' '-4' '8' '4']\n",
      "  ['8' '-5' 'MIN' '7' '-8']]]\n"
     ]
    }
   ],
   "source": [
    "minimo = np.min(array20)\n",
    "print(f\"El máximo es: {minimo}\")\n",
    "\n",
    "print(f\"\\nEl array el máximo sustituido es: \\n{np.where(array20 == minimo, \"MIN\", array20)}\")"
   ]
  },
  {
   "cell_type": "markdown",
   "id": "83794704",
   "metadata": {},
   "source": [
    "#### Ejercicio 21 - Verificación de Filas y Columnas Iguales\n",
    "\n",
    "Crea un array bidimensional de dimensiones 4x4, escribe un código para determinar si alguna fila es exactamente igual a alguna columna.\n",
    "\n",
    "**Reglas:**\n",
    "\n",
    "- No puedes usar funciones predefinidas de NumPy para comparar filas y columnas (`np.array_equal`, etc.).\n",
    "\n",
    "- Debes resolverlo con estructuras básicas de Python (bucles, condicionales, etc.).\n",
    "\n",
    "- Debes revisar si hay al menos una fila que coincida exactamente con alguna columna.\n",
    "\n",
    "**Pistas**:\n",
    "\n",
    "- Puedes recorrer cada fila y cada columna de la matriz usando bucles.\n",
    "\n",
    "- Para comparar una fila con una columna, puedes hacerlo elemento por elemento."
   ]
  },
  {
   "cell_type": "code",
   "execution_count": 196,
   "id": "afd51c60",
   "metadata": {},
   "outputs": [
    {
     "name": "stdout",
     "output_type": "stream",
     "text": [
      "El array inicial es: \n",
      "[[-1 -1  0  0]\n",
      " [-1 -1 -1 -1]\n",
      " [-1 -1  0  0]\n",
      " [-1 -1  0  0]]\n"
     ]
    }
   ],
   "source": [
    "array21 = np.random.randint(-1, 1, (4, 4))\n",
    "\n",
    "print(f\"El array inicial es: \\n{array21}\")"
   ]
  },
  {
   "cell_type": "code",
   "execution_count": 199,
   "id": "66a2e7b6",
   "metadata": {},
   "outputs": [
    {
     "name": "stdout",
     "output_type": "stream",
     "text": [
      "La fila 1 y la columna 0 son iguales.\n",
      "La fila 1 y la columna 1 son iguales.\n"
     ]
    }
   ],
   "source": [
    "# Recorremos filas\n",
    "for i in range(4):\n",
    "\n",
    "    # Recorremos columnas\n",
    "    for j in range(4):\n",
    "\n",
    "        iguales = True\n",
    "\n",
    "        # Comprobamos \n",
    "        for k in range(4):\n",
    "\n",
    "            if array21[i][k] != array21[k][j]:\n",
    "                iguales = False\n",
    "                break\n",
    "\n",
    "        if iguales:\n",
    "            print(f\"La fila {i} y la columna {j} son iguales.\")"
   ]
  }
 ],
 "metadata": {
  "kernelspec": {
   "display_name": "test",
   "language": "python",
   "name": "python3"
  },
  "language_info": {
   "codemirror_mode": {
    "name": "ipython",
    "version": 3
   },
   "file_extension": ".py",
   "mimetype": "text/x-python",
   "name": "python",
   "nbconvert_exporter": "python",
   "pygments_lexer": "ipython3",
   "version": "3.12.4"
  }
 },
 "nbformat": 4,
 "nbformat_minor": 5
}
